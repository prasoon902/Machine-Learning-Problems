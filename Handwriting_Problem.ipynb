{
 "cells": [
  {
   "cell_type": "code",
   "execution_count": 1,
   "id": "10649fa2",
   "metadata": {},
   "outputs": [],
   "source": [
    "import pandas as pd\n",
    "import matplotlib.pyplot as plt\n",
    "from matplotlib import pyplot\n",
    "import numpy as np\n",
    "import pandas as pd\n",
    "import seaborn as sns\n",
    "from scipy import stats\n",
    "import bamboolib as bam \n",
    "import warnings\n",
    "warnings.filterwarnings('ignore')"
   ]
  },
  {
   "cell_type": "code",
   "execution_count": 2,
   "id": "5c3e57c7",
   "metadata": {},
   "outputs": [],
   "source": [
    "df = pd.read_csv(\"letters.csv\")"
   ]
  },
  {
   "cell_type": "code",
   "execution_count": 3,
   "id": "268aac89",
   "metadata": {},
   "outputs": [
    {
     "data": {
      "application/vnd.jupyter.widget-view+json": {
       "model_id": "88f2b9d0d76a4d369d377d4f5315ce78"
      },
      "text/plain": [
       "       label  pixel43  pixel44  pixel92  pixel124  pixel125  pixel126  \\\n",
       "0          1        0        0        0         0         0         0   \n",
       "1          0        0        0        0       137       137       192   \n",
       "2          1        0        0        0         3       141       139   \n",
       "3          4        0        0        0         0         0         0   \n",
       "4          0        0        0        0       155       254       254   \n",
       "...      ...      ...      ...      ...       ...       ...       ...   \n",
       "41995      2        0        0        1       248       253       176   \n",
       "41996      0        0        0        0         0         0         0   \n",
       "41997      2        0        0        0       255       255       191   \n",
       "41998      2        0        0        0       255       128         0   \n",
       "41999      2        0        0      227       253       229       133   \n",
       "\n",
       "       pixel127  pixel128  pixel129  ...  pixel329  pixel351  pixel410  \\\n",
       "0             0         0         0  ...         0       254         0   \n",
       "1            86        72         1  ...       254         0         0   \n",
       "2             3         0         0  ...         0       184         0   \n",
       "3             0         0         0  ...         0         0        94   \n",
       "4           254       157        30  ...       253         0         0   \n",
       "...         ...       ...       ...  ...       ...       ...       ...   \n",
       "41995        43         0         0  ...         0         0         0   \n",
       "41996         0         0       128  ...         0         0         0   \n",
       "41997         0         0         0  ...         0         0         0   \n",
       "41998         0         0         0  ...         0       255         0   \n",
       "41999        19         0         0  ...         0         0       253   \n",
       "\n",
       "       pixel411  pixel412  pixel413  pixel414  pixel415  pixel416  pixel417  \n",
       "0             0         0         0         0         0         0         0  \n",
       "1            75       254       254       254        17         0         0  \n",
       "2             0         0         0         0         0         0         0  \n",
       "3           255        69         0         0         0         0         0  \n",
       "4             0       223       253       253       253       129         0  \n",
       "...         ...       ...       ...       ...       ...       ...       ...  \n",
       "41995         0         0         0         0         0         0         0  \n",
       "41996         0       255       255         0         0         0         0  \n",
       "41997         0         0         0         0         0         0         0  \n",
       "41998         0         0         0         0         0         0         0  \n",
       "41999       160         1         0         0         0         0         0  \n",
       "\n",
       "[42000 rows x 46 columns]"
      ]
     },
     "metadata": {},
     "output_type": "display_data"
    }
   ],
   "source": [
    "df"
   ]
  },
  {
   "cell_type": "code",
   "execution_count": 4,
   "id": "5e1ec7f6",
   "metadata": {},
   "outputs": [],
   "source": [
    "for col in df.columns:\n",
    "    result = df[col].gt(255).any()\n",
    "    if result == True:\n",
    "        print(result)\n",
    "        break\n",
    "    result = df[col].lt(0).any()\n",
    "    if result == True:\n",
    "        print(result)"
   ]
  },
  {
   "cell_type": "code",
   "execution_count": 5,
   "id": "e4ac923d",
   "metadata": {},
   "outputs": [],
   "source": [
    "import pandas as pd\n",
    "from sklearn.model_selection import train_test_split\n",
    "from sklearn.preprocessing import StandardScaler\n",
    "from sklearn.decomposition import PCA\n",
    "from sklearn.neighbors import KNeighborsClassifier\n",
    "from sklearn.ensemble import RandomForestClassifier\n",
    "from sklearn.neural_network import MLPClassifier\n",
    "from sklearn.metrics import accuracy_score, classification_report\n",
    "\n",
    "# Load data\n",
    "data = df.copy(deep=True)\n",
    "\n",
    "# Separate features and target\n",
    "X = data.drop('label', axis=1)\n",
    "y = data['label']\n",
    "\n",
    "# Preprocessing\n",
    "scaler = StandardScaler()\n",
    "X_scaled = scaler.fit_transform(X)  # Feature scaling\n",
    "\n",
    "\n",
    "# Split the data into training and testing sets\n",
    "X_train, X_test, y_train, y_test = train_test_split(X_scaled, y, test_size=0.2, random_state=2)\n",
    "\n",
    "\n"
   ]
  },
  {
   "cell_type": "code",
   "execution_count": 6,
   "id": "f895469c",
   "metadata": {},
   "outputs": [
    {
     "name": "stdout",
     "output_type": "stream",
     "text": [
      "KNN with k=3 accuracy: 0.6164285714285714\n",
      "              precision    recall  f1-score   support\n",
      "\n",
      "           0       0.77      0.87      0.82       805\n",
      "           1       0.76      0.92      0.83       973\n",
      "           2       0.52      0.65      0.58       778\n",
      "           3       0.49      0.49      0.49       909\n",
      "           4       0.54      0.52      0.53       827\n",
      "           5       0.60      0.55      0.57       715\n",
      "           6       0.85      0.84      0.85       814\n",
      "           7       0.46      0.47      0.47       841\n",
      "           8       0.65      0.47      0.54       841\n",
      "           9       0.47      0.37      0.42       897\n",
      "\n",
      "    accuracy                           0.62      8400\n",
      "   macro avg       0.61      0.62      0.61      8400\n",
      "weighted avg       0.61      0.62      0.61      8400\n",
      "\n",
      "KNN with k=6 accuracy: 0.6341666666666667\n",
      "              precision    recall  f1-score   support\n",
      "\n",
      "           0       0.79      0.89      0.84       805\n",
      "           1       0.78      0.93      0.85       973\n",
      "           2       0.59      0.64      0.61       778\n",
      "           3       0.54      0.51      0.52       909\n",
      "           4       0.65      0.52      0.58       827\n",
      "           5       0.59      0.55      0.57       715\n",
      "           6       0.83      0.84      0.84       814\n",
      "           7       0.44      0.61      0.51       841\n",
      "           8       0.63      0.47      0.54       841\n",
      "           9       0.49      0.36      0.42       897\n",
      "\n",
      "    accuracy                           0.63      8400\n",
      "   macro avg       0.63      0.63      0.63      8400\n",
      "weighted avg       0.63      0.63      0.63      8400\n",
      "\n"
     ]
    }
   ],
   "source": [
    "# Part 1: KNN model\n",
    "k_values = [3, 6]  # different values of k for KNN\n",
    "for k in k_values:\n",
    "    knn = KNeighborsClassifier(n_neighbors=k)\n",
    "    knn.fit(X_train, y_train)\n",
    "    y_pred = knn.predict(X_test)\n",
    "    accuracy = accuracy_score(y_test, y_pred)\n",
    "    print(f\"KNN with k={k} accuracy: {accuracy}\")\n",
    "    print(classification_report(y_test, y_pred))\n"
   ]
  },
  {
   "cell_type": "code",
   "execution_count": 7,
   "id": "9bcd5fbd",
   "metadata": {},
   "outputs": [
    {
     "name": "stdout",
     "output_type": "stream",
     "text": [
      "Random Forest with 100 trees accuracy: 0.695595238095238\n",
      "              precision    recall  f1-score   support\n",
      "\n",
      "           0       0.84      0.91      0.87       805\n",
      "           1       0.88      0.93      0.91       973\n",
      "           2       0.70      0.67      0.69       778\n",
      "           3       0.64      0.62      0.63       909\n",
      "           4       0.72      0.61      0.66       827\n",
      "           5       0.67      0.64      0.65       715\n",
      "           6       0.85      0.91      0.88       814\n",
      "           7       0.50      0.59      0.54       841\n",
      "           8       0.65      0.57      0.61       841\n",
      "           9       0.49      0.50      0.49       897\n",
      "\n",
      "    accuracy                           0.70      8400\n",
      "   macro avg       0.70      0.69      0.69      8400\n",
      "weighted avg       0.70      0.70      0.69      8400\n",
      "\n",
      "Random Forest with 200 trees accuracy: 0.6946428571428571\n",
      "              precision    recall  f1-score   support\n",
      "\n",
      "           0       0.84      0.90      0.87       805\n",
      "           1       0.89      0.93      0.91       973\n",
      "           2       0.70      0.67      0.69       778\n",
      "           3       0.64      0.62      0.63       909\n",
      "           4       0.71      0.61      0.66       827\n",
      "           5       0.67      0.63      0.65       715\n",
      "           6       0.85      0.91      0.88       814\n",
      "           7       0.50      0.59      0.54       841\n",
      "           8       0.65      0.56      0.60       841\n",
      "           9       0.49      0.51      0.50       897\n",
      "\n",
      "    accuracy                           0.69      8400\n",
      "   macro avg       0.69      0.69      0.69      8400\n",
      "weighted avg       0.69      0.69      0.69      8400\n",
      "\n"
     ]
    }
   ],
   "source": [
    "\n",
    "# Part 2: Random Forest model\n",
    "n_trees = [100, 200]  # different values for the number of trees in the forest\n",
    "for n in n_trees:\n",
    "    rf = RandomForestClassifier(n_estimators=n, random_state=9)\n",
    "    rf.fit(X_train, y_train)\n",
    "    y_pred = rf.predict(X_test)\n",
    "    accuracy = accuracy_score(y_test, y_pred)\n",
    "    print(f\"Random Forest with {n} trees accuracy: {accuracy}\")\n",
    "    print(classification_report(y_test, y_pred))\n"
   ]
  },
  {
   "cell_type": "code",
   "execution_count": 8,
   "id": "5da5c168",
   "metadata": {},
   "outputs": [
    {
     "name": "stdout",
     "output_type": "stream",
     "text": [
      "Neural Network with logistic activation accuracy: 0.6626190476190477\n",
      "              precision    recall  f1-score   support\n",
      "\n",
      "           0       0.81      0.88      0.85       805\n",
      "           1       0.84      0.91      0.88       973\n",
      "           2       0.68      0.63      0.66       778\n",
      "           3       0.66      0.55      0.60       909\n",
      "           4       0.70      0.52      0.60       827\n",
      "           5       0.55      0.61      0.58       715\n",
      "           6       0.86      0.88      0.87       814\n",
      "           7       0.47      0.67      0.55       841\n",
      "           8       0.60      0.52      0.56       841\n",
      "           9       0.47      0.43      0.45       897\n",
      "\n",
      "    accuracy                           0.66      8400\n",
      "   macro avg       0.67      0.66      0.66      8400\n",
      "weighted avg       0.67      0.66      0.66      8400\n",
      "\n",
      "Neural Network with relu activation accuracy: 0.6869047619047619\n",
      "              precision    recall  f1-score   support\n",
      "\n",
      "           0       0.85      0.87      0.86       805\n",
      "           1       0.87      0.92      0.89       973\n",
      "           2       0.69      0.66      0.67       778\n",
      "           3       0.66      0.57      0.61       909\n",
      "           4       0.76      0.56      0.65       827\n",
      "           5       0.63      0.66      0.64       715\n",
      "           6       0.87      0.89      0.88       814\n",
      "           7       0.49      0.67      0.57       841\n",
      "           8       0.63      0.57      0.60       841\n",
      "           9       0.48      0.49      0.49       897\n",
      "\n",
      "    accuracy                           0.69      8400\n",
      "   macro avg       0.69      0.69      0.69      8400\n",
      "weighted avg       0.69      0.69      0.69      8400\n",
      "\n"
     ]
    }
   ],
   "source": [
    "# Part 3: Neural Network model\n",
    "activation_functions = ['logistic', 'relu']  # different activation functions\n",
    "for activation in activation_functions:\n",
    "    nn = MLPClassifier(activation=activation,solver='sgd', max_iter=1000)\n",
    "    nn.fit(X_train, y_train)\n",
    "    y_pred = nn.predict(X_test)\n",
    "    accuracy = accuracy_score(y_test, y_pred)\n",
    "    print(f\"Neural Network with {activation} activation accuracy: {accuracy}\")\n",
    "    print(classification_report(y_test, y_pred))\n"
   ]
  },
  {
   "cell_type": "markdown",
   "id": "aed7ef19",
   "metadata": {},
   "source": [
    "### Comparision\n",
    "\n",
    "Based on the above results, we can see that the KNN models performance is significantly lower than the Random forest and Neural network models. The Random Forest with ‘n_estimators = 100’ exceeds other models across all the other metrics and shows superior performance, showing it is able to understand the complex relationship across pixel values and is able to identify the pattern. Although the neural network with ReLU, shows a nearly good result, it might be due to insufficient data or the need for extensive hyperparameter tuning, but as of now, it still lags behind the Random Forest model. Hence, based on all the metrics we have, we can see that the Random Forest model with n_estimators= 100, shows the best output."
   ]
  },
  {
   "cell_type": "markdown",
   "id": "226d8791",
   "metadata": {},
   "source": [
    "### Conclusion and Recommendation\n",
    "\n",
    "Based on the above comparison we can conclude that random forest(n=100), showed the highest performance across all metrics. Other than its high performance, even its interpretability is higher than neural networks which showed competitive accuracy, since a certain level of transparency is required in decision-making, especially for academic institutions, which will be very difficult to achieve with a neural network. Based on these points, we can say that Random Forest(n=100), yields the highest degree of results for this context in comparison to other models and hence should be used.\n",
    "Although we have chosen the model, the accuracy of 70% is not very high, especially for such a sensitive use case, where the development of students could be impacted due to an incorrect result. Hence the recommendation would be to use the current model as a foundation so that the institution can initiate its plan to leverage the model to predict which students might need attention for their motor skills since there might be resource constraints initially. Later with this as a foundation, the model can be refined further and its robustness could be utilized to fulfill the immediate and future needs of the institution."
   ]
  }
 ],
 "metadata": {
  "kernelspec": {
   "display_name": "Python 3 (ipykernel)",
   "language": "python",
   "name": "python3"
  },
  "language_info": {
   "codemirror_mode": {
    "name": "ipython",
    "version": 3
   },
   "file_extension": ".py",
   "mimetype": "text/x-python",
   "name": "python",
   "nbconvert_exporter": "python",
   "pygments_lexer": "ipython3",
   "version": "3.11.4"
  }
 },
 "nbformat": 4,
 "nbformat_minor": 5
}
