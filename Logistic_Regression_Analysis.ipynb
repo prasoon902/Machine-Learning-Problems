{
 "cells": [
  {
   "cell_type": "markdown",
   "metadata": {},
   "source": [
    "## Section One - Logistic Regression"
   ]
  },
  {
   "cell_type": "markdown",
   "metadata": {},
   "source": [
    "### Realizing the __logistic regression__ algorithm from scratch"
   ]
  },
  {
   "cell_type": "code",
   "execution_count": 1,
   "metadata": {},
   "outputs": [],
   "source": [
    "# Your answer here\n",
    "\n",
    "import numpy as np\n",
    "import matplotlib.pyplot as plt\n",
    "\n",
    "class LogisticRegression:\n",
    "    def __init__(self, learning_rate=0.01, num_iter=10000):\n",
    "        self.learning_rate = learning_rate\n",
    "        self.num_iter = num_iter\n",
    "        self.weights = None\n",
    "        self.bias = None\n",
    "    \n",
    "    def predict(self, X):\n",
    "        z = np.dot(X, self.weights) + self.bias\n",
    "        sigmoid = 1 / (1 + np.exp(-z))    \n",
    "        return sigmoid\n",
    "    \n",
    "    def loss_fn(self, p, y):\n",
    "        return (-y * np.log(p) - (1 - y) * np.log(1 - p)).mean()\n",
    "    \n",
    "    def fit(self, X, y):\n",
    "        num_sample, num_features = X.shape\n",
    "        self.weights = np.zeros(num_features)\n",
    "        self.bias = 0\n",
    "        \n",
    "        for i in range(self.num_iter):\n",
    "            p = self.predict(X)\n",
    "            dw = np.dot(X.T, (p - y)) / num_sample\n",
    "            db = np.sum(p - y) / num_sample\n",
    "            \n",
    "            self.weights -= self.learning_rate * dw\n",
    "            self.bias -= self.learning_rate * db\n",
    "            \n"
   ]
  },
  {
   "cell_type": "markdown",
   "metadata": {},
   "source": [
    "### Testing the homemade __logistic regression__ algorithm"
   ]
  },
  {
   "cell_type": "code",
   "execution_count": 2,
   "metadata": {},
   "outputs": [
    {
     "name": "stderr",
     "output_type": "stream",
     "text": [
      "C:\\Users\\Asus\\AppData\\Local\\Temp\\ipykernel_1848\\2015388895.py:15: RuntimeWarning: overflow encountered in exp\n",
      "  sigmoid = 1 / (1 + np.exp(-z))\n"
     ]
    },
    {
     "name": "stdout",
     "output_type": "stream",
     "text": [
      "Custom Logistic Regression Accuracy: 93.86\n"
     ]
    }
   ],
   "source": [
    "# Your answer here\n",
    "\n",
    "from sklearn.datasets import load_breast_cancer\n",
    "from sklearn.model_selection import train_test_split\n",
    "\n",
    "\n",
    "# Load the breast cancer dataset\n",
    "data = load_breast_cancer()\n",
    "X = data.data  # Features\n",
    "y = data.target  # Target variable\n",
    "\n",
    "# Split the dataset into training and testing sets\n",
    "X_train, X_test, y_train, y_test = train_test_split(X, y, test_size=0.2, random_state=2023)\n",
    "\n",
    "\n",
    "# Create an instance of Custom Logistic Regression\n",
    "custom_model = LogisticRegression()\n",
    "\n",
    "# Fit the Custom model on the training data\n",
    "custom_model.fit(X_train, y_train)\n",
    "\n",
    "# Make predictions on the test data using the Custom model\n",
    "custom_predictions = custom_model.predict(X_test)\n",
    "\n",
    "custom_class_labels = (custom_predictions >= 0.5).astype(int)\n",
    "\n",
    "# Calculate accuracy of the Custom model\n",
    "custom_accuracy = np.mean(custom_class_labels == y_test)\n",
    "print(f\"Custom Logistic Regression Accuracy: {custom_accuracy*100:.2f}\")"
   ]
  },
  {
   "cell_type": "markdown",
   "metadata": {},
   "source": [
    "### Comparing the model with __sklearn.linear_model.LogisticRegression__"
   ]
  },
  {
   "cell_type": "code",
   "execution_count": 3,
   "metadata": {},
   "outputs": [
    {
     "name": "stdout",
     "output_type": "stream",
     "text": [
      "Sklearn Logistic Regression Accuracy: 96.49\n"
     ]
    }
   ],
   "source": [
    "# Your answer here\n",
    "from sklearn.linear_model import LogisticRegression as LR\n",
    "\n",
    "# Using sklearn's LogisticRegression model\n",
    "sklearn_model = LR(max_iter=10000)\n",
    "\n",
    "# Fit the sklearn model on the training data\n",
    "sklearn_model.fit(X_train, y_train)\n",
    "\n",
    "# Make predictions on the test data using sklearn's LogisticRegression model\n",
    "sklearn_predictions = sklearn_model.predict(X_test)\n",
    "\n",
    "# Calculate accuracy of sklearn's LogisticRegression model\n",
    "sklearn_accuracy = np.mean(sklearn_predictions == y_test)\n",
    "print(f\"Sklearn Logistic Regression Accuracy: {sklearn_accuracy*100:.2f}\")"
   ]
  }
 ],
 "metadata": {
  "kernelspec": {
   "display_name": "Python 3 (ipykernel)",
   "language": "python",
   "name": "python3"
  },
  "language_info": {
   "codemirror_mode": {
    "name": "ipython",
    "version": 3
   },
   "file_extension": ".py",
   "mimetype": "text/x-python",
   "name": "python",
   "nbconvert_exporter": "python",
   "pygments_lexer": "ipython3",
   "version": "3.11.4"
  }
 },
 "nbformat": 4,
 "nbformat_minor": 4
}
